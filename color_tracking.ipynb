{
 "cells": [
  {
   "cell_type": "code",
   "execution_count": 18,
   "metadata": {},
   "outputs": [
    {
     "name": "stderr",
     "output_type": "stream",
     "text": [
      "C:\\Users\\HP\\AppData\\Local\\Packages\\PythonSoftwareFoundation.Python.3.11_qbz5n2kfra8p0\\LocalCache\\local-packages\\Python311\\site-packages\\keras\\src\\layers\\core\\dense.py:87: UserWarning: Do not pass an `input_shape`/`input_dim` argument to a layer. When using Sequential models, prefer using an `Input(shape)` object as the first layer in the model instead.\n",
      "  super().__init__(activity_regularizer=activity_regularizer, **kwargs)\n",
      "WARNING:absl:You are saving your model as an HDF5 file via `model.save()` or `keras.saving.save_model(model)`. This file format is considered legacy. We recommend using instead the native Keras format, e.g. `model.save('my_model.keras')` or `keras.saving.save_model(model, 'my_model.keras')`. \n"
     ]
    },
    {
     "name": "stdout",
     "output_type": "stream",
     "text": [
      "Model saved successfully as color_tracking_model.h5!\n"
     ]
    }
   ],
   "source": [
    "import cv2\n",
    "import numpy as np\n",
    "import tensorflow as tf\n",
    "from tensorflow import keras\n",
    "from tensorflow.keras.models import Sequential\n",
    "from tensorflow.keras.layers import Conv2D, MaxPooling2D, Flatten, Dense\n",
    "\n",
    "# Define color ranges in HSV\n",
    "color_ranges = {\n",
    "    \"Red\": [(0, 120, 70), (10, 255, 255)],\n",
    "    \"Green\": [(40, 40, 40), (80, 255, 255)],\n",
    "    \"Blue\": [(90, 50, 50), (130, 255, 255)],\n",
    "    \"Yellow\": [(20, 100, 100), (30, 255, 255)]\n",
    "}\n",
    "\n",
    "# Function to detect dominant color in an image\n",
    "def preprocess_image(image):\n",
    "    hsv = cv2.cvtColor(image, cv2.COLOR_BGR2HSV)\n",
    "    features = []\n",
    "\n",
    "    for color, (lower, upper) in color_ranges.items():\n",
    "        lower = np.array(lower, dtype=\"uint8\")\n",
    "        upper = np.array(upper, dtype=\"uint8\")\n",
    "        \n",
    "        mask = cv2.inRange(hsv, lower, upper)\n",
    "        features.append(np.sum(mask) / mask.size)  # Normalized count of pixels\n",
    "\n",
    "    return np.array(features).reshape(1, 4)  # 4 values corresponding to color intensities\n",
    "\n",
    "# Define a simple CNN model\n",
    "model = Sequential([\n",
    "    Dense(16, activation='relu', input_shape=(4,)),  # 4 input features\n",
    "    Dense(8, activation='relu'),\n",
    "    Dense(4, activation='softmax')  # 4 output classes (Red, Green, Blue, Yellow)\n",
    "])\n",
    "\n",
    "# Compile the model\n",
    "model.compile(optimizer='adam', loss='categorical_crossentropy', metrics=['accuracy'])\n",
    "\n",
    "# Save the untrained model in .h5 format\n",
    "model.save(\"color_tracking_model.h5\")\n",
    "\n",
    "print(\"Model saved successfully as color_tracking_model.h5!\")\n"
   ]
  },
  {
   "cell_type": "code",
   "execution_count": 17,
   "metadata": {},
   "outputs": [
    {
     "ename": "NameError",
     "evalue": "name 'model' is not defined",
     "output_type": "error",
     "traceback": [
      "\u001b[1;31m---------------------------------------------------------------------------\u001b[0m",
      "\u001b[1;31mNameError\u001b[0m                                 Traceback (most recent call last)",
      "Cell \u001b[1;32mIn[17], line 1\u001b[0m\n\u001b[1;32m----> 1\u001b[0m \u001b[43mmodel\u001b[49m\u001b[38;5;241m.\u001b[39msave(\u001b[38;5;124m'\u001b[39m\u001b[38;5;124mcolor_tracking.h5\u001b[39m\u001b[38;5;124m'\u001b[39m)\n\u001b[0;32m      2\u001b[0m \u001b[38;5;28mprint\u001b[39m(\u001b[38;5;124m\"\u001b[39m\u001b[38;5;124mModel saved as color_tracking.h5\u001b[39m\u001b[38;5;124m\"\u001b[39m)\n",
      "\u001b[1;31mNameError\u001b[0m: name 'model' is not defined"
     ]
    }
   ],
   "source": [
    "model.save('color_tracking.h5')\n",
    "print(\"Model saved as color_tracking.h5\")"
   ]
  }
 ],
 "metadata": {
  "kernelspec": {
   "display_name": "Python 3",
   "language": "python",
   "name": "python3"
  },
  "language_info": {
   "codemirror_mode": {
    "name": "ipython",
    "version": 3
   },
   "file_extension": ".py",
   "mimetype": "text/x-python",
   "name": "python",
   "nbconvert_exporter": "python",
   "pygments_lexer": "ipython3",
   "version": "3.11.9"
  }
 },
 "nbformat": 4,
 "nbformat_minor": 2
}
